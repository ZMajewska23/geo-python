{
 "cells": [
  {
   "cell_type": "code",
   "execution_count": 1,
   "metadata": {},
   "outputs": [],
   "source": [
    "import pandas as pd\n",
    "import numpy as np\n",
    "import matplotlib.pyplot as plot\n",
    "import seaborn as sns\n",
    "import statsmodels as sm"
   ]
  },
  {
   "cell_type": "code",
   "execution_count": 2,
   "metadata": {},
   "outputs": [],
   "source": [
    "df_month_r = pd.read_csv('data/df_minutes_r.csv', sep=';', decimal=',')\n",
    "df_month_k = pd.read_csv('data/df_minutes_k.csv', sep=';', decimal=',')"
   ]
  },
  {
   "cell_type": "code",
   "execution_count": 8,
   "metadata": {},
   "outputs": [
    {
     "data": {
      "text/html": [
       "<div>\n",
       "<style scoped>\n",
       "    .dataframe tbody tr th:only-of-type {\n",
       "        vertical-align: middle;\n",
       "    }\n",
       "\n",
       "    .dataframe tbody tr th {\n",
       "        vertical-align: top;\n",
       "    }\n",
       "\n",
       "    .dataframe thead th {\n",
       "        text-align: right;\n",
       "    }\n",
       "</style>\n",
       "<table border=\"1\" class=\"dataframe\">\n",
       "  <thead>\n",
       "    <tr style=\"text-align: right;\">\n",
       "      <th></th>\n",
       "      <th>przyspieszenie Katowice</th>\n",
       "    </tr>\n",
       "  </thead>\n",
       "  <tbody>\n",
       "    <tr>\n",
       "      <th>0</th>\n",
       "      <td>1.273483</td>\n",
       "    </tr>\n",
       "    <tr>\n",
       "      <th>1</th>\n",
       "      <td>1.273715</td>\n",
       "    </tr>\n",
       "    <tr>\n",
       "      <th>2</th>\n",
       "      <td>1.272616</td>\n",
       "    </tr>\n",
       "    <tr>\n",
       "      <th>3</th>\n",
       "      <td>1.273429</td>\n",
       "    </tr>\n",
       "    <tr>\n",
       "      <th>4</th>\n",
       "      <td>1.272986</td>\n",
       "    </tr>\n",
       "    <tr>\n",
       "      <th>...</th>\n",
       "      <td>...</td>\n",
       "    </tr>\n",
       "    <tr>\n",
       "      <th>536489</th>\n",
       "      <td>1.573414</td>\n",
       "    </tr>\n",
       "    <tr>\n",
       "      <th>536490</th>\n",
       "      <td>1.573423</td>\n",
       "    </tr>\n",
       "    <tr>\n",
       "      <th>536491</th>\n",
       "      <td>1.573454</td>\n",
       "    </tr>\n",
       "    <tr>\n",
       "      <th>536492</th>\n",
       "      <td>1.573410</td>\n",
       "    </tr>\n",
       "    <tr>\n",
       "      <th>536493</th>\n",
       "      <td>1.573407</td>\n",
       "    </tr>\n",
       "  </tbody>\n",
       "</table>\n",
       "<p>533727 rows × 1 columns</p>\n",
       "</div>"
      ],
      "text/plain": [
       "        przyspieszenie Katowice\n",
       "0                      1.273483\n",
       "1                      1.273715\n",
       "2                      1.272616\n",
       "3                      1.273429\n",
       "4                      1.272986\n",
       "...                         ...\n",
       "536489                 1.573414\n",
       "536490                 1.573423\n",
       "536491                 1.573454\n",
       "536492                 1.573410\n",
       "536493                 1.573407\n",
       "\n",
       "[533727 rows x 1 columns]"
      ]
     },
     "execution_count": 8,
     "metadata": {},
     "output_type": "execute_result"
    }
   ],
   "source": [
    "df_month_2 = df_month_k['przyspieszenie']\n",
    "pd.DataFrame(df_month_2).dropna()\n",
    "df_month_2 = pd.DataFrame({'przyspieszenie Katowice': df_month_k['przyspieszenie']}).dropna()\n",
    "# df_month_2['minuta']=df_month_2.index\n",
    "df_month_2"
   ]
  },
  {
   "cell_type": "code",
   "execution_count": 9,
   "metadata": {},
   "outputs": [
    {
     "data": {
      "text/html": [
       "<div>\n",
       "<style scoped>\n",
       "    .dataframe tbody tr th:only-of-type {\n",
       "        vertical-align: middle;\n",
       "    }\n",
       "\n",
       "    .dataframe tbody tr th {\n",
       "        vertical-align: top;\n",
       "    }\n",
       "\n",
       "    .dataframe thead th {\n",
       "        text-align: right;\n",
       "    }\n",
       "</style>\n",
       "<table border=\"1\" class=\"dataframe\">\n",
       "  <thead>\n",
       "    <tr style=\"text-align: right;\">\n",
       "      <th></th>\n",
       "      <th>przyspieszenie Rybnik</th>\n",
       "    </tr>\n",
       "  </thead>\n",
       "  <tbody>\n",
       "    <tr>\n",
       "      <th>0</th>\n",
       "      <td>1.959534</td>\n",
       "    </tr>\n",
       "    <tr>\n",
       "      <th>1</th>\n",
       "      <td>1.960682</td>\n",
       "    </tr>\n",
       "    <tr>\n",
       "      <th>2</th>\n",
       "      <td>1.959524</td>\n",
       "    </tr>\n",
       "    <tr>\n",
       "      <th>3</th>\n",
       "      <td>1.955679</td>\n",
       "    </tr>\n",
       "    <tr>\n",
       "      <th>4</th>\n",
       "      <td>1.962363</td>\n",
       "    </tr>\n",
       "    <tr>\n",
       "      <th>...</th>\n",
       "      <td>...</td>\n",
       "    </tr>\n",
       "    <tr>\n",
       "      <th>527035</th>\n",
       "      <td>2.349240</td>\n",
       "    </tr>\n",
       "    <tr>\n",
       "      <th>527036</th>\n",
       "      <td>2.349015</td>\n",
       "    </tr>\n",
       "    <tr>\n",
       "      <th>527037</th>\n",
       "      <td>2.348510</td>\n",
       "    </tr>\n",
       "    <tr>\n",
       "      <th>527038</th>\n",
       "      <td>2.349408</td>\n",
       "    </tr>\n",
       "    <tr>\n",
       "      <th>527039</th>\n",
       "      <td>2.348312</td>\n",
       "    </tr>\n",
       "  </tbody>\n",
       "</table>\n",
       "<p>524314 rows × 1 columns</p>\n",
       "</div>"
      ],
      "text/plain": [
       "        przyspieszenie Rybnik\n",
       "0                    1.959534\n",
       "1                    1.960682\n",
       "2                    1.959524\n",
       "3                    1.955679\n",
       "4                    1.962363\n",
       "...                       ...\n",
       "527035               2.349240\n",
       "527036               2.349015\n",
       "527037               2.348510\n",
       "527038               2.349408\n",
       "527039               2.348312\n",
       "\n",
       "[524314 rows x 1 columns]"
      ]
     },
     "execution_count": 9,
     "metadata": {},
     "output_type": "execute_result"
    }
   ],
   "source": [
    "df_month_3 = df_month_r['przyspieszenie']\n",
    "pd.DataFrame(df_month_3).dropna()\n",
    "df_month_3 = pd.DataFrame({'przyspieszenie Rybnik': df_month_r['przyspieszenie']}).dropna()\n",
    "# df_month_2['minuta']=df_month_2.index\n",
    "df_month_3"
   ]
  },
  {
   "cell_type": "code",
   "execution_count": 10,
   "metadata": {},
   "outputs": [
    {
     "data": {
      "text/html": [
       "<div>\n",
       "<style scoped>\n",
       "    .dataframe tbody tr th:only-of-type {\n",
       "        vertical-align: middle;\n",
       "    }\n",
       "\n",
       "    .dataframe tbody tr th {\n",
       "        vertical-align: top;\n",
       "    }\n",
       "\n",
       "    .dataframe thead th {\n",
       "        text-align: right;\n",
       "    }\n",
       "</style>\n",
       "<table border=\"1\" class=\"dataframe\">\n",
       "  <thead>\n",
       "    <tr style=\"text-align: right;\">\n",
       "      <th></th>\n",
       "      <th>przyspieszenie Katowice</th>\n",
       "      <th>przyspieszenie Rybnik</th>\n",
       "    </tr>\n",
       "  </thead>\n",
       "  <tbody>\n",
       "    <tr>\n",
       "      <th>0</th>\n",
       "      <td>1.273483</td>\n",
       "      <td>1.959534</td>\n",
       "    </tr>\n",
       "    <tr>\n",
       "      <th>1</th>\n",
       "      <td>1.273715</td>\n",
       "      <td>1.960682</td>\n",
       "    </tr>\n",
       "    <tr>\n",
       "      <th>2</th>\n",
       "      <td>1.272616</td>\n",
       "      <td>1.959524</td>\n",
       "    </tr>\n",
       "    <tr>\n",
       "      <th>3</th>\n",
       "      <td>1.273429</td>\n",
       "      <td>1.955679</td>\n",
       "    </tr>\n",
       "    <tr>\n",
       "      <th>4</th>\n",
       "      <td>1.272986</td>\n",
       "      <td>1.962363</td>\n",
       "    </tr>\n",
       "    <tr>\n",
       "      <th>...</th>\n",
       "      <td>...</td>\n",
       "      <td>...</td>\n",
       "    </tr>\n",
       "    <tr>\n",
       "      <th>527035</th>\n",
       "      <td>1.560863</td>\n",
       "      <td>2.349240</td>\n",
       "    </tr>\n",
       "    <tr>\n",
       "      <th>527036</th>\n",
       "      <td>1.560759</td>\n",
       "      <td>2.349015</td>\n",
       "    </tr>\n",
       "    <tr>\n",
       "      <th>527037</th>\n",
       "      <td>1.560838</td>\n",
       "      <td>2.348510</td>\n",
       "    </tr>\n",
       "    <tr>\n",
       "      <th>527038</th>\n",
       "      <td>1.560799</td>\n",
       "      <td>2.349408</td>\n",
       "    </tr>\n",
       "    <tr>\n",
       "      <th>527039</th>\n",
       "      <td>1.560916</td>\n",
       "      <td>2.348312</td>\n",
       "    </tr>\n",
       "  </tbody>\n",
       "</table>\n",
       "<p>521547 rows × 2 columns</p>\n",
       "</div>"
      ],
      "text/plain": [
       "        przyspieszenie Katowice  przyspieszenie Rybnik\n",
       "0                      1.273483               1.959534\n",
       "1                      1.273715               1.960682\n",
       "2                      1.272616               1.959524\n",
       "3                      1.273429               1.955679\n",
       "4                      1.272986               1.962363\n",
       "...                         ...                    ...\n",
       "527035                 1.560863               2.349240\n",
       "527036                 1.560759               2.349015\n",
       "527037                 1.560838               2.348510\n",
       "527038                 1.560799               2.349408\n",
       "527039                 1.560916               2.348312\n",
       "\n",
       "[521547 rows x 2 columns]"
      ]
     },
     "execution_count": 10,
     "metadata": {},
     "output_type": "execute_result"
    }
   ],
   "source": [
    "df_merge=pd.merge(df_month_2, df_month_3, left_index=True, right_index=True)\n",
    "df_merge\n"
   ]
  },
  {
   "cell_type": "code",
   "execution_count": 20,
   "metadata": {},
   "outputs": [
    {
     "data": {
      "image/png": "[encoded data removed]",
      "text/plain": [
       "<Figure size 640x480 with 1 Axes>"
      ]
     },
     "metadata": {},
     "output_type": "display_data"
    }
   ],
   "source": [
    "# g = sns.pairplot(data=df_merge[['przyspieszenie', 'przyspieszenie katowice']], hue='przyspieszenie', dropna=True) #height=3, aspect=2, palette=('cubehelix'), markers='o')\n",
    "# g.axes[2,1].set_xlim((0,140))\n",
    "# g.axes[1,2].set_xlim((0,60))\n",
    "# g = plot.scatter(df_merge['miesiac'], df_merge['przyspieszenie'], c=df_merge['przyspieszenie katowice'], cmap='hot')\n",
    "\n"
   ]
  },
  {
   "cell_type": "code",
   "execution_count": 11,
   "metadata": {},
   "outputs": [
    {
     "data": {
      "image/png": "[encoded data removed]",
      "text/plain": [
       "<Figure size 640x480 with 2 Axes>"
      ]
     },
     "metadata": {},
     "output_type": "display_data"
    }
   ],
   "source": [
    "sns.heatmap(df_merge[['przyspieszenie Rybnik', 'przyspieszenie Katowice']].corr(), cmap='coolwarm', annot=True)\n",
    "plot.show()"
   ]
  }
 ],
 "metadata": {
  "kernelspec": {
   "display_name": "Python 3",
   "language": "python",
   "name": "python3"
  },
  "language_info": {
   "codemirror_mode": {
    "name": "ipython",
    "version": 3
   },
   "file_extension": ".py",
   "mimetype": "text/x-python",
   "name": "python",
   "nbconvert_exporter": "python",
   "pygments_lexer": "ipython3",
   "version": "3.10.9"
  },
  "orig_nbformat": 4
 },
 "nbformat": 4,
 "nbformat_minor": 2
}
