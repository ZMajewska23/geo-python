{
 "cells": [
  {
   "cell_type": "code",
   "execution_count": 4,
   "metadata": {},
   "outputs": [
    {
     "name": "stdout",
     "output_type": "stream",
     "text": [
      "0.24999999999999994\n"
     ]
    }
   ],
   "source": [
    "import pandas as pd\n",
    "import numpy as np\n",
    "import matplotlib.pyplot as plot\n",
    "import seaborn as sns\n",
    "import statsmodels as sm\n",
    "\n",
    "\n",
    "df = pd.read_csv('data/df.csv')\n",
    "\n",
    "\n",
    "srednie_12 = df['czestotliwosc[Hz]'].mean()\n",
    "print(srednie_12)\n",
    "\n"
   ]
  },
  {
   "cell_type": "code",
   "execution_count": 5,
   "metadata": {},
   "outputs": [
    {
     "name": "stdout",
     "output_type": "stream",
     "text": [
      "0              NaN\n",
      "1              NaN\n",
      "2              NaN\n",
      "3              NaN\n",
      "4              NaN\n",
      "            ...   \n",
      "172795    0.000029\n",
      "172796    0.000023\n",
      "172797    0.000017\n",
      "172798    0.000012\n",
      "172799    0.000006\n",
      "Name: czestotliwosc[Hz], Length: 172800, dtype: float64\n"
     ]
    }
   ],
   "source": [
    "\n",
    "srednia_krok = df['czestotliwosc[Hz]'].rolling(window=7, step = None)\n",
    "\n",
    "print(srednia_krok.min())\n"
   ]
  },
  {
   "cell_type": "code",
   "execution_count": 6,
   "metadata": {},
   "outputs": [
    {
     "name": "stdout",
     "output_type": "stream",
     "text": [
      "0.25\n"
     ]
    }
   ],
   "source": [
    "mediana = df['czestotliwosc[Hz]'].median()\n",
    "print(mediana)"
   ]
  },
  {
   "cell_type": "code",
   "execution_count": 7,
   "metadata": {},
   "outputs": [
    {
     "name": "stdout",
     "output_type": "stream",
     "text": [
      "0.14433798496197842\n"
     ]
    }
   ],
   "source": [
    "std = df['czestotliwosc[Hz]'].std()\n",
    "print(std)"
   ]
  },
  {
   "cell_type": "code",
   "execution_count": 8,
   "metadata": {},
   "outputs": [
    {
     "name": "stdout",
     "output_type": "stream",
     "text": [
      "             godzina     raw[nm/s2]  cisnienie[mBar]        residua   \n",
      "count  172800.000000  172800.000000    172800.000000  172800.000000  \\\n",
      "mean       11.500000   19659.597550       990.733303   19556.251940   \n",
      "std         6.922207     820.731636         2.232407     753.788712   \n",
      "min         0.000000   13396.900000       985.630000   12789.600000   \n",
      "25%         5.750000   19105.700000       989.390000   19052.200000   \n",
      "50%        11.500000   19654.100000       991.670000   19555.000000   \n",
      "75%        17.250000   20211.500000       992.580000   20062.400000   \n",
      "max        23.000000   23364.400000       993.610000   22814.400000   \n",
      "\n",
      "             sekunda         minuta   miesiac       rok  przyspieszenie   \n",
      "count  172800.000000  172800.000000  172800.0  172800.0   172800.000000  \\\n",
      "mean    43199.500000      29.500000       1.0    2020.0        0.669965   \n",
      "std     24941.603796      17.318152       0.0       0.0        0.038623   \n",
      "min         0.000000       0.000000       1.0    2020.0        0.246047   \n",
      "25%     21599.750000      14.750000       1.0    2020.0        0.644597   \n",
      "50%     43199.500000      29.500000       1.0    2020.0        0.670646   \n",
      "75%     64799.250000      44.250000       1.0    2020.0        0.696262   \n",
      "max     86399.000000      59.000000       1.0    2020.0        0.824807   \n",
      "\n",
      "       czestotliwosc[Hz]  \n",
      "count      172800.000000  \n",
      "mean            0.250000  \n",
      "std             0.144338  \n",
      "min             0.000000  \n",
      "25%             0.125000  \n",
      "50%             0.250000  \n",
      "75%             0.375000  \n",
      "max             0.500000  \n"
     ]
    }
   ],
   "source": [
    "des = df.describe()\n",
    "print(des)"
   ]
  },
  {
   "cell_type": "code",
   "execution_count": 9,
   "metadata": {},
   "outputs": [
    {
     "data": {
      "text/html": [
       "<div>\n",
       "<style scoped>\n",
       "    .dataframe tbody tr th:only-of-type {\n",
       "        vertical-align: middle;\n",
       "    }\n",
       "\n",
       "    .dataframe tbody tr th {\n",
       "        vertical-align: top;\n",
       "    }\n",
       "\n",
       "    .dataframe thead th {\n",
       "        text-align: right;\n",
       "    }\n",
       "</style>\n",
       "<table border=\"1\" class=\"dataframe\">\n",
       "  <thead>\n",
       "    <tr style=\"text-align: right;\">\n",
       "      <th></th>\n",
       "      <th>miesiac</th>\n",
       "      <th>rok</th>\n",
       "      <th>godzina</th>\n",
       "      <th>raw[nm/s2]</th>\n",
       "      <th>cisnienie[mBar]</th>\n",
       "      <th>residua</th>\n",
       "      <th>sekunda</th>\n",
       "      <th>minuta</th>\n",
       "      <th>przyspieszenie</th>\n",
       "      <th>czestotliwosc[Hz]</th>\n",
       "    </tr>\n",
       "  </thead>\n",
       "  <tbody>\n",
       "    <tr>\n",
       "      <th>0</th>\n",
       "      <td>1</td>\n",
       "      <td>2020</td>\n",
       "      <td>11.5</td>\n",
       "      <td>19123.590543</td>\n",
       "      <td>984.361932</td>\n",
       "      <td>18985.594173</td>\n",
       "      <td>43199.500000</td>\n",
       "      <td>29.5</td>\n",
       "      <td>0.641095</td>\n",
       "      <td>0.000000</td>\n",
       "    </tr>\n",
       "    <tr>\n",
       "      <th>1</th>\n",
       "      <td>2</td>\n",
       "      <td>2020</td>\n",
       "      <td>11.5</td>\n",
       "      <td>18050.026604</td>\n",
       "      <td>974.720605</td>\n",
       "      <td>17852.768394</td>\n",
       "      <td>43190.496336</td>\n",
       "      <td>29.5</td>\n",
       "      <td>0.579573</td>\n",
       "      <td>0.083333</td>\n",
       "    </tr>\n",
       "    <tr>\n",
       "      <th>2</th>\n",
       "      <td>3</td>\n",
       "      <td>2020</td>\n",
       "      <td>11.5</td>\n",
       "      <td>17034.234964</td>\n",
       "      <td>978.881184</td>\n",
       "      <td>16842.008871</td>\n",
       "      <td>43199.500000</td>\n",
       "      <td>29.5</td>\n",
       "      <td>0.521291</td>\n",
       "      <td>0.166667</td>\n",
       "    </tr>\n",
       "    <tr>\n",
       "      <th>3</th>\n",
       "      <td>4</td>\n",
       "      <td>2020</td>\n",
       "      <td>11.5</td>\n",
       "      <td>16040.896239</td>\n",
       "      <td>979.123759</td>\n",
       "      <td>15857.080037</td>\n",
       "      <td>43199.500000</td>\n",
       "      <td>29.5</td>\n",
       "      <td>0.461031</td>\n",
       "      <td>0.250000</td>\n",
       "    </tr>\n",
       "    <tr>\n",
       "      <th>4</th>\n",
       "      <td>5</td>\n",
       "      <td>2020</td>\n",
       "      <td>11.5</td>\n",
       "      <td>15048.445621</td>\n",
       "      <td>978.848193</td>\n",
       "      <td>14875.386531</td>\n",
       "      <td>43199.500000</td>\n",
       "      <td>29.5</td>\n",
       "      <td>0.397123</td>\n",
       "      <td>0.333333</td>\n",
       "    </tr>\n",
       "    <tr>\n",
       "      <th>5</th>\n",
       "      <td>6</td>\n",
       "      <td>2020</td>\n",
       "      <td>11.5</td>\n",
       "      <td>14103.927285</td>\n",
       "      <td>973.221263</td>\n",
       "      <td>13924.374658</td>\n",
       "      <td>43199.500000</td>\n",
       "      <td>29.5</td>\n",
       "      <td>0.331056</td>\n",
       "      <td>0.416667</td>\n",
       "    </tr>\n",
       "    <tr>\n",
       "      <th>6</th>\n",
       "      <td>7</td>\n",
       "      <td>2020</td>\n",
       "      <td>11.5</td>\n",
       "      <td>13196.540317</td>\n",
       "      <td>977.495254</td>\n",
       "      <td>13030.427446</td>\n",
       "      <td>43199.500000</td>\n",
       "      <td>29.5</td>\n",
       "      <td>0.264702</td>\n",
       "      <td>0.500000</td>\n",
       "    </tr>\n",
       "    <tr>\n",
       "      <th>7</th>\n",
       "      <td>8</td>\n",
       "      <td>2020</td>\n",
       "      <td>11.5</td>\n",
       "      <td>12403.493854</td>\n",
       "      <td>975.701741</td>\n",
       "      <td>12211.732935</td>\n",
       "      <td>43199.500000</td>\n",
       "      <td>29.5</td>\n",
       "      <td>0.199812</td>\n",
       "      <td>0.416667</td>\n",
       "    </tr>\n",
       "    <tr>\n",
       "      <th>8</th>\n",
       "      <td>9</td>\n",
       "      <td>2020</td>\n",
       "      <td>11.5</td>\n",
       "      <td>11656.345849</td>\n",
       "      <td>978.413154</td>\n",
       "      <td>11446.253998</td>\n",
       "      <td>43199.500000</td>\n",
       "      <td>29.5</td>\n",
       "      <td>0.135077</td>\n",
       "      <td>0.333333</td>\n",
       "    </tr>\n",
       "    <tr>\n",
       "      <th>9</th>\n",
       "      <td>10</td>\n",
       "      <td>2020</td>\n",
       "      <td>11.5</td>\n",
       "      <td>16396.579023</td>\n",
       "      <td>974.102095</td>\n",
       "      <td>16191.947793</td>\n",
       "      <td>43211.283373</td>\n",
       "      <td>29.5</td>\n",
       "      <td>0.481929</td>\n",
       "      <td>0.250000</td>\n",
       "    </tr>\n",
       "    <tr>\n",
       "      <th>10</th>\n",
       "      <td>11</td>\n",
       "      <td>2020</td>\n",
       "      <td>11.5</td>\n",
       "      <td>25160.861556</td>\n",
       "      <td>985.719913</td>\n",
       "      <td>25050.125930</td>\n",
       "      <td>43199.500000</td>\n",
       "      <td>29.5</td>\n",
       "      <td>0.918294</td>\n",
       "      <td>0.166667</td>\n",
       "    </tr>\n",
       "    <tr>\n",
       "      <th>11</th>\n",
       "      <td>12</td>\n",
       "      <td>2020</td>\n",
       "      <td>11.5</td>\n",
       "      <td>24093.615571</td>\n",
       "      <td>973.421297</td>\n",
       "      <td>23962.063184</td>\n",
       "      <td>43199.500000</td>\n",
       "      <td>29.5</td>\n",
       "      <td>0.873887</td>\n",
       "      <td>0.083333</td>\n",
       "    </tr>\n",
       "  </tbody>\n",
       "</table>\n",
       "</div>"
      ],
      "text/plain": [
       "    miesiac   rok  godzina    raw[nm/s2]  cisnienie[mBar]       residua   \n",
       "0         1  2020     11.5  19123.590543       984.361932  18985.594173  \\\n",
       "1         2  2020     11.5  18050.026604       974.720605  17852.768394   \n",
       "2         3  2020     11.5  17034.234964       978.881184  16842.008871   \n",
       "3         4  2020     11.5  16040.896239       979.123759  15857.080037   \n",
       "4         5  2020     11.5  15048.445621       978.848193  14875.386531   \n",
       "5         6  2020     11.5  14103.927285       973.221263  13924.374658   \n",
       "6         7  2020     11.5  13196.540317       977.495254  13030.427446   \n",
       "7         8  2020     11.5  12403.493854       975.701741  12211.732935   \n",
       "8         9  2020     11.5  11656.345849       978.413154  11446.253998   \n",
       "9        10  2020     11.5  16396.579023       974.102095  16191.947793   \n",
       "10       11  2020     11.5  25160.861556       985.719913  25050.125930   \n",
       "11       12  2020     11.5  24093.615571       973.421297  23962.063184   \n",
       "\n",
       "         sekunda  minuta  przyspieszenie  czestotliwosc[Hz]  \n",
       "0   43199.500000    29.5        0.641095           0.000000  \n",
       "1   43190.496336    29.5        0.579573           0.083333  \n",
       "2   43199.500000    29.5        0.521291           0.166667  \n",
       "3   43199.500000    29.5        0.461031           0.250000  \n",
       "4   43199.500000    29.5        0.397123           0.333333  \n",
       "5   43199.500000    29.5        0.331056           0.416667  \n",
       "6   43199.500000    29.5        0.264702           0.500000  \n",
       "7   43199.500000    29.5        0.199812           0.416667  \n",
       "8   43199.500000    29.5        0.135077           0.333333  \n",
       "9   43211.283373    29.5        0.481929           0.250000  \n",
       "10  43199.500000    29.5        0.918294           0.166667  \n",
       "11  43199.500000    29.5        0.873887           0.083333  "
      ]
     },
     "execution_count": 9,
     "metadata": {},
     "output_type": "execute_result"
    }
   ],
   "source": [
    "df_month = pd.read_csv('data/df_month.csv', sep=';', decimal=',')\n",
    "df_month"
   ]
  },
  {
   "cell_type": "code",
   "execution_count": 13,
   "metadata": {},
   "outputs": [
    {
     "data": {
      "text/plain": [
       "-0.3207644782443758"
      ]
     },
     "execution_count": 13,
     "metadata": {},
     "output_type": "execute_result"
    }
   ],
   "source": [
    "cor = df_month['czestotliwosc[Hz]'].corr(df_month['cisnienie[mBar]'])\n",
    "cor"
   ]
  },
  {
   "cell_type": "code",
   "execution_count": 15,
   "metadata": {},
   "outputs": [
    {
     "data": {
      "text/plain": [
       "0.1458333333333333"
      ]
     },
     "execution_count": 15,
     "metadata": {},
     "output_type": "execute_result"
    }
   ],
   "source": [
    "q = df_month['czestotliwosc[Hz]'].quantile(q=0.25)\n",
    "q"
   ]
  },
  {
   "cell_type": "code",
   "execution_count": 20,
   "metadata": {},
   "outputs": [
    {
     "ename": "AttributeError",
     "evalue": "module 'seaborn' has no attribute 'load_df_month'",
     "output_type": "error",
     "traceback": [
      "\u001b[1;31m---------------------------------------------------------------------------\u001b[0m",
      "\u001b[1;31mAttributeError\u001b[0m                            Traceback (most recent call last)",
      "Cell \u001b[1;32mIn[20], line 3\u001b[0m\n\u001b[0;32m      1\u001b[0m peguins \u001b[39m=\u001b[39m df_month[\u001b[39m'\u001b[39m\u001b[39mraw[nm/s2]\u001b[39m\u001b[39m'\u001b[39m]\n\u001b[0;32m      2\u001b[0m sns\u001b[39m.\u001b[39mset_theme(style\u001b[39m=\u001b[39m\u001b[39m\"\u001b[39m\u001b[39mticks\u001b[39m\u001b[39m\"\u001b[39m)\n\u001b[1;32m----> 3\u001b[0m df_month[\u001b[39m'\u001b[39m\u001b[39mraw[nm/s2]\u001b[39m\u001b[39m'\u001b[39m] \u001b[39m=\u001b[39m sns\u001b[39m.\u001b[39;49mload_df_month\n\u001b[0;32m      4\u001b[0m sns\u001b[39m.\u001b[39mpairplot(df_month[\u001b[39m'\u001b[39m\u001b[39mresidua\u001b[39m\u001b[39m'\u001b[39m] , hue\u001b[39m=\u001b[39m\u001b[39m\"\u001b[39m\u001b[39mspecies\u001b[39m\u001b[39m\"\u001b[39m)\n",
      "\u001b[1;31mAttributeError\u001b[0m: module 'seaborn' has no attribute 'load_df_month'"
     ]
    }
   ],
   "source": [
    "peguins = df_month['raw[nm/s2]']\n",
    "sns.set_theme(style=\"ticks\")\n",
    "df_month['raw[nm/s2]'] = sns.load_df_month\n",
    "sns.pairplot(df_month['residua'] , hue=\"species\")"
   ]
  }
 ],
 "metadata": {
  "kernelspec": {
   "display_name": "Python 3",
   "language": "python",
   "name": "python3"
  },
  "language_info": {
   "codemirror_mode": {
    "name": "ipython",
    "version": 3
   },
   "file_extension": ".py",
   "mimetype": "text/x-python",
   "name": "python",
   "nbconvert_exporter": "python",
   "pygments_lexer": "ipython3",
   "version": "3.10.9"
  },
  "orig_nbformat": 4
 },
 "nbformat": 4,
 "nbformat_minor": 2
}
